{
 "cells": [
  {
   "cell_type": "markdown",
   "metadata": {},
   "source": [
    "# VacationPy\n",
    "----\n",
    "\n",
    "#### Note\n",
    "* Keep an eye on your API usage. Use https://developers.google.com/maps/reporting/gmp-reporting as reference for how to monitor your usage and billing.\n",
    "\n",
    "* Instructions have been included for each segment. You do not have to follow them exactly, but they are included to help you think through the steps."
   ]
  },
  {
   "cell_type": "code",
   "execution_count": 16,
   "metadata": {},
   "outputs": [],
   "source": [
    "# Dependencies and Setup\n",
    "import matplotlib.pyplot as plt\n",
    "import pandas as pd\n",
    "import numpy as np\n",
    "import requests\n",
    "import gmaps\n",
    "import os\n",
    "import json\n",
    "import time\n",
    "\n",
    "# Import API key\n",
    "from api_keys import g_key"
   ]
  },
  {
   "cell_type": "markdown",
   "metadata": {},
   "source": [
    "### Store Part I results into DataFrame\n",
    "* Load the csv exported in Part I to a DataFrame"
   ]
  },
  {
   "cell_type": "code",
   "execution_count": 17,
   "metadata": {},
   "outputs": [
    {
     "data": {
      "text/html": [
       "<div>\n",
       "<style scoped>\n",
       "    .dataframe tbody tr th:only-of-type {\n",
       "        vertical-align: middle;\n",
       "    }\n",
       "\n",
       "    .dataframe tbody tr th {\n",
       "        vertical-align: top;\n",
       "    }\n",
       "\n",
       "    .dataframe thead th {\n",
       "        text-align: right;\n",
       "    }\n",
       "</style>\n",
       "<table border=\"1\" class=\"dataframe\">\n",
       "  <thead>\n",
       "    <tr style=\"text-align: right;\">\n",
       "      <th></th>\n",
       "      <th>City</th>\n",
       "      <th>Cloudiness</th>\n",
       "      <th>Country</th>\n",
       "      <th>Date</th>\n",
       "      <th>Humidity</th>\n",
       "      <th>Lat</th>\n",
       "      <th>Lng</th>\n",
       "      <th>Max Temp</th>\n",
       "      <th>Wind Speed</th>\n",
       "    </tr>\n",
       "  </thead>\n",
       "  <tbody>\n",
       "    <tr>\n",
       "      <th>0</th>\n",
       "      <td>Bengkulu</td>\n",
       "      <td>93</td>\n",
       "      <td>ID</td>\n",
       "      <td>1644376239</td>\n",
       "      <td>75</td>\n",
       "      <td>-3.8004</td>\n",
       "      <td>102.2655</td>\n",
       "      <td>27.46</td>\n",
       "      <td>3.66</td>\n",
       "    </tr>\n",
       "    <tr>\n",
       "      <th>1</th>\n",
       "      <td>Port Lincoln</td>\n",
       "      <td>98</td>\n",
       "      <td>AU</td>\n",
       "      <td>1644376239</td>\n",
       "      <td>57</td>\n",
       "      <td>-34.7333</td>\n",
       "      <td>135.8667</td>\n",
       "      <td>21.50</td>\n",
       "      <td>5.16</td>\n",
       "    </tr>\n",
       "    <tr>\n",
       "      <th>2</th>\n",
       "      <td>Luba</td>\n",
       "      <td>77</td>\n",
       "      <td>GQ</td>\n",
       "      <td>1644376239</td>\n",
       "      <td>85</td>\n",
       "      <td>3.4568</td>\n",
       "      <td>8.5547</td>\n",
       "      <td>26.34</td>\n",
       "      <td>3.04</td>\n",
       "    </tr>\n",
       "    <tr>\n",
       "      <th>3</th>\n",
       "      <td>Beïnamar</td>\n",
       "      <td>63</td>\n",
       "      <td>TD</td>\n",
       "      <td>1644376240</td>\n",
       "      <td>16</td>\n",
       "      <td>8.6698</td>\n",
       "      <td>15.3813</td>\n",
       "      <td>21.19</td>\n",
       "      <td>1.95</td>\n",
       "    </tr>\n",
       "    <tr>\n",
       "      <th>4</th>\n",
       "      <td>Bredasdorp</td>\n",
       "      <td>0</td>\n",
       "      <td>ZA</td>\n",
       "      <td>1644376240</td>\n",
       "      <td>86</td>\n",
       "      <td>-34.5322</td>\n",
       "      <td>20.0403</td>\n",
       "      <td>15.71</td>\n",
       "      <td>2.77</td>\n",
       "    </tr>\n",
       "    <tr>\n",
       "      <th>...</th>\n",
       "      <td>...</td>\n",
       "      <td>...</td>\n",
       "      <td>...</td>\n",
       "      <td>...</td>\n",
       "      <td>...</td>\n",
       "      <td>...</td>\n",
       "      <td>...</td>\n",
       "      <td>...</td>\n",
       "      <td>...</td>\n",
       "    </tr>\n",
       "    <tr>\n",
       "      <th>607</th>\n",
       "      <td>Gusau</td>\n",
       "      <td>91</td>\n",
       "      <td>NG</td>\n",
       "      <td>1644376419</td>\n",
       "      <td>12</td>\n",
       "      <td>12.1628</td>\n",
       "      <td>6.6614</td>\n",
       "      <td>20.15</td>\n",
       "      <td>5.29</td>\n",
       "    </tr>\n",
       "    <tr>\n",
       "      <th>608</th>\n",
       "      <td>Ust-Kuyga</td>\n",
       "      <td>91</td>\n",
       "      <td>RU</td>\n",
       "      <td>1644376420</td>\n",
       "      <td>99</td>\n",
       "      <td>70.0167</td>\n",
       "      <td>135.6000</td>\n",
       "      <td>-39.16</td>\n",
       "      <td>3.99</td>\n",
       "    </tr>\n",
       "    <tr>\n",
       "      <th>609</th>\n",
       "      <td>Dhāmnod</td>\n",
       "      <td>99</td>\n",
       "      <td>IN</td>\n",
       "      <td>1644376420</td>\n",
       "      <td>48</td>\n",
       "      <td>22.2167</td>\n",
       "      <td>75.4667</td>\n",
       "      <td>20.23</td>\n",
       "      <td>1.40</td>\n",
       "    </tr>\n",
       "    <tr>\n",
       "      <th>610</th>\n",
       "      <td>Stromness</td>\n",
       "      <td>100</td>\n",
       "      <td>GB</td>\n",
       "      <td>1644376420</td>\n",
       "      <td>73</td>\n",
       "      <td>58.9650</td>\n",
       "      <td>-3.2960</td>\n",
       "      <td>3.98</td>\n",
       "      <td>17.85</td>\n",
       "    </tr>\n",
       "    <tr>\n",
       "      <th>611</th>\n",
       "      <td>Manokwari</td>\n",
       "      <td>98</td>\n",
       "      <td>ID</td>\n",
       "      <td>1644376421</td>\n",
       "      <td>68</td>\n",
       "      <td>-0.8667</td>\n",
       "      <td>134.0833</td>\n",
       "      <td>28.64</td>\n",
       "      <td>1.31</td>\n",
       "    </tr>\n",
       "  </tbody>\n",
       "</table>\n",
       "<p>612 rows × 9 columns</p>\n",
       "</div>"
      ],
      "text/plain": [
       "             City  Cloudiness Country        Date  Humidity      Lat  \\\n",
       "0        Bengkulu          93      ID  1644376239        75  -3.8004   \n",
       "1    Port Lincoln          98      AU  1644376239        57 -34.7333   \n",
       "2            Luba          77      GQ  1644376239        85   3.4568   \n",
       "3        Beïnamar          63      TD  1644376240        16   8.6698   \n",
       "4      Bredasdorp           0      ZA  1644376240        86 -34.5322   \n",
       "..            ...         ...     ...         ...       ...      ...   \n",
       "607         Gusau          91      NG  1644376419        12  12.1628   \n",
       "608     Ust-Kuyga          91      RU  1644376420        99  70.0167   \n",
       "609       Dhāmnod          99      IN  1644376420        48  22.2167   \n",
       "610     Stromness         100      GB  1644376420        73  58.9650   \n",
       "611     Manokwari          98      ID  1644376421        68  -0.8667   \n",
       "\n",
       "          Lng  Max Temp  Wind Speed  \n",
       "0    102.2655     27.46        3.66  \n",
       "1    135.8667     21.50        5.16  \n",
       "2      8.5547     26.34        3.04  \n",
       "3     15.3813     21.19        1.95  \n",
       "4     20.0403     15.71        2.77  \n",
       "..        ...       ...         ...  \n",
       "607    6.6614     20.15        5.29  \n",
       "608  135.6000    -39.16        3.99  \n",
       "609   75.4667     20.23        1.40  \n",
       "610   -3.2960      3.98       17.85  \n",
       "611  134.0833     28.64        1.31  \n",
       "\n",
       "[612 rows x 9 columns]"
      ]
     },
     "execution_count": 17,
     "metadata": {},
     "output_type": "execute_result"
    }
   ],
   "source": [
    "weather_df = pd.read_csv (r'city_data.csv')\n",
    "weather_df"
   ]
  },
  {
   "cell_type": "markdown",
   "metadata": {},
   "source": [
    "### Humidity Heatmap\n",
    "* Configure gmaps.\n",
    "* Use the Lat and Lng as locations and Humidity as the weight.\n",
    "* Add Heatmap layer to map."
   ]
  },
  {
   "cell_type": "code",
   "execution_count": 18,
   "metadata": {},
   "outputs": [],
   "source": [
    "# Configure gmaps\n",
    "gmaps.configure(api_key=g_key)\n",
    "\n",
    "# Store latitude and longitude in locations\n",
    "locations = weather_df[[\"Lat\", \"Lng\"]]\n",
    "\n",
    "# Store Humidity in humidity\n",
    "humidity = weather_df[\"Humidity\"]"
   ]
  },
  {
   "cell_type": "code",
   "execution_count": 19,
   "metadata": {},
   "outputs": [
    {
     "data": {
      "application/vnd.jupyter.widget-view+json": {
       "model_id": "c105a83a08114939a9cc01f462e59545",
       "version_major": 2,
       "version_minor": 0
      },
      "text/plain": [
       "Figure(layout=FigureLayout(height='420px'))"
      ]
     },
     "metadata": {},
     "output_type": "display_data"
    }
   ],
   "source": [
    "# Plot Heatmap\n",
    "fig = gmaps.figure(center=(46.0, -5.0), zoom_level=2)\n",
    "max_intensity = np.max(humidity)\n",
    "\n",
    "# Create heat layer\n",
    "# Add layer\n",
    "# Display figure\n",
    "fig = gmaps.figure()\n",
    "heat_layer = gmaps.heatmap_layer(locations, weights=humidity, dissipating=False)\n",
    "heat_layer.max_intensity = 100\n",
    "heat_layer.point_radius = 5\n",
    "\n",
    "\n",
    "fig.add_layer(heat_layer)\n",
    "fig"
   ]
  },
  {
   "cell_type": "code",
   "execution_count": null,
   "metadata": {},
   "outputs": [],
   "source": []
  },
  {
   "cell_type": "markdown",
   "metadata": {},
   "source": [
    "### Create new DataFrame fitting weather criteria\n",
    "* Narrow down the cities to fit weather conditions.\n",
    "* Drop any rows will null values."
   ]
  },
  {
   "cell_type": "code",
   "execution_count": 20,
   "metadata": {},
   "outputs": [
    {
     "data": {
      "text/html": [
       "<div>\n",
       "<style scoped>\n",
       "    .dataframe tbody tr th:only-of-type {\n",
       "        vertical-align: middle;\n",
       "    }\n",
       "\n",
       "    .dataframe tbody tr th {\n",
       "        vertical-align: top;\n",
       "    }\n",
       "\n",
       "    .dataframe thead th {\n",
       "        text-align: right;\n",
       "    }\n",
       "</style>\n",
       "<table border=\"1\" class=\"dataframe\">\n",
       "  <thead>\n",
       "    <tr style=\"text-align: right;\">\n",
       "      <th></th>\n",
       "      <th>City</th>\n",
       "      <th>Cloudiness</th>\n",
       "      <th>Country</th>\n",
       "      <th>Date</th>\n",
       "      <th>Humidity</th>\n",
       "      <th>Lat</th>\n",
       "      <th>Lng</th>\n",
       "      <th>Max Temp</th>\n",
       "      <th>Wind Speed</th>\n",
       "    </tr>\n",
       "  </thead>\n",
       "  <tbody>\n",
       "  </tbody>\n",
       "</table>\n",
       "</div>"
      ],
      "text/plain": [
       "Empty DataFrame\n",
       "Columns: [City, Cloudiness, Country, Date, Humidity, Lat, Lng, Max Temp, Wind Speed]\n",
       "Index: []"
      ]
     },
     "execution_count": 20,
     "metadata": {},
     "output_type": "execute_result"
    }
   ],
   "source": [
    "# Narrow down the cities with wind speed less than 10 mph, cloudiness equals to 0 and max temp between 60 and 80\n",
    "temp_file = weather_df.loc[(weather_df['Max Temp']>=60)&(weather_df['Max Temp']<=80)]\n",
    "wind_file = temp_file.loc[(temp_file['Wind Speed']<=10)]\n",
    "ideal_weather = wind_file.loc[(wind_file['Cloudiness']==0)]\n",
    "ideal_weather"
   ]
  },
  {
   "cell_type": "markdown",
   "metadata": {},
   "source": [
    "### Hotel Map\n",
    "* Store into variable named `hotel_df`.\n",
    "* Add a \"Hotel Name\" column to the DataFrame.\n",
    "* Set parameters to search for hotels with 5000 meters.\n",
    "* Hit the Google Places API for each city's coordinates.\n",
    "* Store the first Hotel result into the DataFrame.\n",
    "* Plot markers on top of the heatmap."
   ]
  },
  {
   "cell_type": "code",
   "execution_count": 21,
   "metadata": {},
   "outputs": [
    {
     "data": {
      "text/html": [
       "<div>\n",
       "<style scoped>\n",
       "    .dataframe tbody tr th:only-of-type {\n",
       "        vertical-align: middle;\n",
       "    }\n",
       "\n",
       "    .dataframe tbody tr th {\n",
       "        vertical-align: top;\n",
       "    }\n",
       "\n",
       "    .dataframe thead th {\n",
       "        text-align: right;\n",
       "    }\n",
       "</style>\n",
       "<table border=\"1\" class=\"dataframe\">\n",
       "  <thead>\n",
       "    <tr style=\"text-align: right;\">\n",
       "      <th></th>\n",
       "      <th>City</th>\n",
       "      <th>Cloudiness</th>\n",
       "      <th>Country</th>\n",
       "      <th>Date</th>\n",
       "      <th>Humidity</th>\n",
       "      <th>Lat</th>\n",
       "      <th>Lng</th>\n",
       "      <th>Max Temp</th>\n",
       "      <th>Wind Speed</th>\n",
       "      <th>Hotel Name</th>\n",
       "    </tr>\n",
       "  </thead>\n",
       "  <tbody>\n",
       "  </tbody>\n",
       "</table>\n",
       "</div>"
      ],
      "text/plain": [
       "Empty DataFrame\n",
       "Columns: [City, Cloudiness, Country, Date, Humidity, Lat, Lng, Max Temp, Wind Speed, Hotel Name]\n",
       "Index: []"
      ]
     },
     "execution_count": 21,
     "metadata": {},
     "output_type": "execute_result"
    }
   ],
   "source": [
    "# Create a hotel_df\n",
    "# Add a \"Hotel Name\" column to the DataFrame.\n",
    "# Display the result\n",
    "\n",
    "hotel_df = ideal_weather.reset_index(drop=True)\n",
    "hotel_df[\"Hotel Name\"] = \"\"\n",
    "\n",
    "params = {\n",
    "    \"radius\": 50000,\n",
    "    \"types\": \"hotel\",\n",
    "    \"keyword\": \"hotels\",\n",
    "    \"key\": g_key\n",
    "}\n",
    "\n",
    "for index, row in hotel_df.iterrows():\n",
    "    lat = row[\"Lat\"]\n",
    "    lng = row[\"Lng\"]\n",
    "    \n",
    " \n",
    "    params[\"location\"] = f\"{lat},{lng}\"\n",
    "    \n",
    "   \n",
    "    base_url = \"https://maps.googleapis.com/maps/api/place/nearbysearch/json\"\n",
    "    \n",
    "   \n",
    "    hotel_name = requests.get(base_url, params=params)\n",
    "    \n",
    "   \n",
    "    hotel_name = hotel_name.json()\n",
    "    print(json.dumps(hotel_name, indent=4, sort_keys=True))\n",
    "    \n",
    "    \n",
    "    try:\n",
    "        hotel_df.loc[index, \"Hotel Name\"] = hotel_name[\"results\"][0][\"name\"]\n",
    "    except (KeyError, IndexError):\n",
    "        print(\"Missing field/result... skipping.\")\n",
    "hotel_df "
   ]
  },
  {
   "cell_type": "code",
   "execution_count": null,
   "metadata": {},
   "outputs": [],
   "source": []
  },
  {
   "cell_type": "code",
   "execution_count": 22,
   "metadata": {},
   "outputs": [],
   "source": [
    "# NOTE: Do not change any of the code in this cell\n",
    "\n",
    "# Using the template add the hotel marks to the heatmap\n",
    "info_box_template = \"\"\"\n",
    "<dl>\n",
    "<dt>Name</dt><dd>{Hotel Name}</dd>\n",
    "<dt>City</dt><dd>{City}</dd>\n",
    "<dt>Country</dt><dd>{Country}</dd>\n",
    "</dl>\n",
    "\"\"\"\n",
    "# Store the DataFrame Row\n",
    "# NOTE: be sure to update with your DataFrame name\n",
    "hotel_info = [info_box_template.format(**row) for index, row in hotel_df.iterrows()]\n",
    "locations = hotel_df[[\"Lat\", \"Lng\"]]"
   ]
  },
  {
   "cell_type": "code",
   "execution_count": 23,
   "metadata": {},
   "outputs": [
    {
     "data": {
      "application/vnd.jupyter.widget-view+json": {
       "model_id": "c105a83a08114939a9cc01f462e59545",
       "version_major": 2,
       "version_minor": 0
      },
      "text/plain": [
       "Figure(layout=FigureLayout(height='420px'))"
      ]
     },
     "metadata": {},
     "output_type": "display_data"
    }
   ],
   "source": [
    "# Add marker layer ontop of heat map\n",
    "markers = gmaps.marker_layer(locations, info_box_content = hotel_info)\n",
    "fig.add_layer(markers)\n",
    "\n",
    "# Display figure\n",
    "fig"
   ]
  },
  {
   "cell_type": "code",
   "execution_count": null,
   "metadata": {},
   "outputs": [],
   "source": []
  },
  {
   "cell_type": "code",
   "execution_count": null,
   "metadata": {},
   "outputs": [],
   "source": []
  }
 ],
 "metadata": {
  "kernelspec": {
   "display_name": "Python 3 (ipykernel)",
   "language": "python",
   "name": "python3"
  },
  "language_info": {
   "codemirror_mode": {
    "name": "ipython",
    "version": 3
   },
   "file_extension": ".py",
   "mimetype": "text/x-python",
   "name": "python",
   "nbconvert_exporter": "python",
   "pygments_lexer": "ipython3",
   "version": "3.9.7"
  },
  "latex_envs": {
   "LaTeX_envs_menu_present": true,
   "autoclose": false,
   "autocomplete": true,
   "bibliofile": "biblio.bib",
   "cite_by": "apalike",
   "current_citInitial": 1,
   "eqLabelWithNumbers": true,
   "eqNumInitial": 1,
   "hotkeys": {
    "equation": "Ctrl-E",
    "itemize": "Ctrl-I"
   },
   "labels_anchors": false,
   "latex_user_defs": false,
   "report_style_numbering": false,
   "user_envs_cfg": false
  }
 },
 "nbformat": 4,
 "nbformat_minor": 4
}
